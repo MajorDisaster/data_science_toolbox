{
 "cells": [
  {
   "cell_type": "markdown",
   "metadata": {},
   "source": [
    "# Notebook to prep sample data for test driving Manifold\n",
    "\n",
    "Using the Singapore enbloc dataset to create a simple classifier with preds"
   ]
  },
  {
   "cell_type": "code",
   "execution_count": 1,
   "metadata": {},
   "outputs": [],
   "source": [
    "import pandas as pd"
   ]
  },
  {
   "cell_type": "code",
   "execution_count": 2,
   "metadata": {},
   "outputs": [],
   "source": [
    "df = pd.read_csv('../data/sg_property_enbloc.csv')\n",
    "df[['enbloc']].to_csv('../data/sg_property_enbloc_gt.csv', index=False)"
   ]
  },
  {
   "cell_type": "code",
   "execution_count": 3,
   "metadata": {},
   "outputs": [
    {
     "data": {
      "text/html": [
       "<div>\n",
       "<style scoped>\n",
       "    .dataframe tbody tr th:only-of-type {\n",
       "        vertical-align: middle;\n",
       "    }\n",
       "\n",
       "    .dataframe tbody tr th {\n",
       "        vertical-align: top;\n",
       "    }\n",
       "\n",
       "    .dataframe thead th {\n",
       "        text-align: right;\n",
       "    }\n",
       "</style>\n",
       "<table border=\"1\" class=\"dataframe\">\n",
       "  <thead>\n",
       "    <tr style=\"text-align: right;\">\n",
       "      <th></th>\n",
       "      <th>name</th>\n",
       "      <th>id</th>\n",
       "      <th>type_code</th>\n",
       "      <th>total_units</th>\n",
       "      <th>floors</th>\n",
       "      <th>top_month</th>\n",
       "      <th>top_year</th>\n",
       "      <th>tenure</th>\n",
       "      <th>district_code</th>\n",
       "      <th>postcode</th>\n",
       "      <th>streetname</th>\n",
       "      <th>ura_key</th>\n",
       "      <th>transaction_psf</th>\n",
       "      <th>nearest_mrt_distance</th>\n",
       "      <th>enbloc</th>\n",
       "      <th>enbloc_date</th>\n",
       "    </tr>\n",
       "  </thead>\n",
       "  <tbody>\n",
       "    <tr>\n",
       "      <th>0</th>\n",
       "      <td>DERBY COURT</td>\n",
       "      <td>1868</td>\n",
       "      <td>CONDO</td>\n",
       "      <td>22.0</td>\n",
       "      <td>0.0</td>\n",
       "      <td>12.0</td>\n",
       "      <td>1979.0</td>\n",
       "      <td>F</td>\n",
       "      <td>D11</td>\n",
       "      <td>309461</td>\n",
       "      <td>Derbyshire Road</td>\n",
       "      <td>DERBY COURT</td>\n",
       "      <td>788.0</td>\n",
       "      <td>0.49</td>\n",
       "      <td>1</td>\n",
       "      <td>2017-12-13</td>\n",
       "    </tr>\n",
       "    <tr>\n",
       "      <th>1</th>\n",
       "      <td>DUSUN GROVE</td>\n",
       "      <td>1885</td>\n",
       "      <td>CONDO</td>\n",
       "      <td>12.0</td>\n",
       "      <td>0.0</td>\n",
       "      <td>12.0</td>\n",
       "      <td>1986.0</td>\n",
       "      <td>F</td>\n",
       "      <td>D12</td>\n",
       "      <td>329371</td>\n",
       "      <td>Jalan Dusun</td>\n",
       "      <td>DUSUN GROVE</td>\n",
       "      <td>394.0</td>\n",
       "      <td>0.00</td>\n",
       "      <td>1</td>\n",
       "      <td>2010-01-19</td>\n",
       "    </tr>\n",
       "    <tr>\n",
       "      <th>2</th>\n",
       "      <td>BALESTIER COURT</td>\n",
       "      <td>1768</td>\n",
       "      <td>CONDO</td>\n",
       "      <td>16.0</td>\n",
       "      <td>0.0</td>\n",
       "      <td>1.0</td>\n",
       "      <td>1986.0</td>\n",
       "      <td>F</td>\n",
       "      <td>D12</td>\n",
       "      <td>329191</td>\n",
       "      <td>Jalan Raja Udang</td>\n",
       "      <td>BALESTIER COURT</td>\n",
       "      <td>390.0</td>\n",
       "      <td>0.00</td>\n",
       "      <td>1</td>\n",
       "      <td>2007-03-02</td>\n",
       "    </tr>\n",
       "    <tr>\n",
       "      <th>3</th>\n",
       "      <td>HJ HEIGHTS</td>\n",
       "      <td>2217</td>\n",
       "      <td>CONDO</td>\n",
       "      <td>76.0</td>\n",
       "      <td>5.0</td>\n",
       "      <td>12.0</td>\n",
       "      <td>1989.0</td>\n",
       "      <td>F</td>\n",
       "      <td>D21</td>\n",
       "      <td>597667</td>\n",
       "      <td>Merbok Crescent</td>\n",
       "      <td>HJ HEIGHTS</td>\n",
       "      <td>350.0</td>\n",
       "      <td>0.00</td>\n",
       "      <td>1</td>\n",
       "      <td>2006-08-14</td>\n",
       "    </tr>\n",
       "    <tr>\n",
       "      <th>4</th>\n",
       "      <td>ANGULLIA VIEW</td>\n",
       "      <td>1755</td>\n",
       "      <td>APT</td>\n",
       "      <td>24.0</td>\n",
       "      <td>0.0</td>\n",
       "      <td>1.0</td>\n",
       "      <td>1987.0</td>\n",
       "      <td>F</td>\n",
       "      <td>D09</td>\n",
       "      <td>239975</td>\n",
       "      <td>Augullia Park</td>\n",
       "      <td>ANGULLIA VIEW</td>\n",
       "      <td>800.0</td>\n",
       "      <td>0.00</td>\n",
       "      <td>1</td>\n",
       "      <td>2000-03-15</td>\n",
       "    </tr>\n",
       "  </tbody>\n",
       "</table>\n",
       "</div>"
      ],
      "text/plain": [
       "              name    id type_code  total_units  floors  top_month  top_year  \\\n",
       "0      DERBY COURT  1868     CONDO         22.0     0.0       12.0    1979.0   \n",
       "1      DUSUN GROVE  1885     CONDO         12.0     0.0       12.0    1986.0   \n",
       "2  BALESTIER COURT  1768     CONDO         16.0     0.0        1.0    1986.0   \n",
       "3       HJ HEIGHTS  2217     CONDO         76.0     5.0       12.0    1989.0   \n",
       "4    ANGULLIA VIEW  1755       APT         24.0     0.0        1.0    1987.0   \n",
       "\n",
       "  tenure district_code  postcode        streetname          ura_key  \\\n",
       "0      F           D11    309461   Derbyshire Road      DERBY COURT   \n",
       "1      F           D12    329371       Jalan Dusun      DUSUN GROVE   \n",
       "2      F           D12    329191  Jalan Raja Udang  BALESTIER COURT   \n",
       "3      F           D21    597667   Merbok Crescent       HJ HEIGHTS   \n",
       "4      F           D09    239975     Augullia Park    ANGULLIA VIEW   \n",
       "\n",
       "   transaction_psf  nearest_mrt_distance  enbloc enbloc_date  \n",
       "0            788.0                  0.49       1  2017-12-13  \n",
       "1            394.0                  0.00       1  2010-01-19  \n",
       "2            390.0                  0.00       1  2007-03-02  \n",
       "3            350.0                  0.00       1  2006-08-14  \n",
       "4            800.0                  0.00       1  2000-03-15  "
      ]
     },
     "execution_count": 3,
     "metadata": {},
     "output_type": "execute_result"
    }
   ],
   "source": [
    "df.head()"
   ]
  },
  {
   "cell_type": "code",
   "execution_count": 4,
   "metadata": {},
   "outputs": [
    {
     "data": {
      "text/plain": [
       "Index(['name', 'id', 'type_code', 'total_units', 'floors', 'top_month',\n",
       "       'top_year', 'tenure', 'district_code', 'postcode', 'streetname',\n",
       "       'ura_key', 'transaction_psf', 'nearest_mrt_distance', 'enbloc',\n",
       "       'enbloc_date'],\n",
       "      dtype='object')"
      ]
     },
     "execution_count": 4,
     "metadata": {},
     "output_type": "execute_result"
    }
   ],
   "source": [
    "df.columns"
   ]
  },
  {
   "cell_type": "code",
   "execution_count": 5,
   "metadata": {},
   "outputs": [
    {
     "data": {
      "text/plain": [
       "name                        0\n",
       "id                          0\n",
       "type_code                   0\n",
       "total_units             10370\n",
       "floors                     57\n",
       "top_month               13785\n",
       "top_year                13785\n",
       "tenure                   1504\n",
       "district_code               2\n",
       "postcode                    0\n",
       "streetname                  1\n",
       "ura_key                  1555\n",
       "transaction_psf          3946\n",
       "nearest_mrt_distance        0\n",
       "enbloc                      0\n",
       "enbloc_date             16790\n",
       "dtype: int64"
      ]
     },
     "execution_count": 5,
     "metadata": {},
     "output_type": "execute_result"
    }
   ],
   "source": [
    "df.isnull().sum()"
   ]
  },
  {
   "cell_type": "code",
   "execution_count": 6,
   "metadata": {},
   "outputs": [
    {
     "data": {
      "text/plain": [
       "Pipeline(memory=None,\n",
       "         steps=[('imp_mean',\n",
       "                 SimpleImputer(add_indicator=False, copy=True, fill_value=None,\n",
       "                               missing_values=nan, strategy='mean',\n",
       "                               verbose=0)),\n",
       "                ('oe',\n",
       "                 OrdinalEncoder(categories='auto',\n",
       "                                dtype=<class 'numpy.float64'>)),\n",
       "                ('clf',\n",
       "                 KNeighborsClassifier(algorithm='auto', leaf_size=30,\n",
       "                                      metric='minkowski', metric_params=None,\n",
       "                                      n_jobs=None, n_neighbors=5, p=2,\n",
       "                                      weights='uniform'))],\n",
       "         verbose=False)"
      ]
     },
     "execution_count": 6,
     "metadata": {},
     "output_type": "execute_result"
    }
   ],
   "source": [
    "from sklearn.neighbors import KNeighborsClassifier\n",
    "from sklearn.pipeline import Pipeline\n",
    "from sklearn.preprocessing import OrdinalEncoder\n",
    "from sklearn.impute import SimpleImputer\n",
    "import numpy as np\n",
    "\n",
    "\n",
    "oe = OrdinalEncoder()\n",
    "imp_mean = SimpleImputer(missing_values=np.nan)\n",
    "clf = KNeighborsClassifier()\n",
    "\n",
    "\n",
    "training_pipeline = Pipeline([('imp_mean', imp_mean),\n",
    "                              ('oe', oe),\n",
    "                              ('clf', clf)])\n",
    "\n",
    "features = ['total_units', 'floors', 'top_month', 'top_year', 'transaction_psf', 'nearest_mrt_distance']\n",
    "\n",
    "training_pipeline.fit(df[features],  df['enbloc'])"
   ]
  },
  {
   "cell_type": "code",
   "execution_count": 7,
   "metadata": {},
   "outputs": [],
   "source": [
    "df['preds'] = training_pipeline.predict(df[features])"
   ]
  },
  {
   "cell_type": "code",
   "execution_count": 8,
   "metadata": {},
   "outputs": [],
   "source": [
    "df[['preds']].to_csv('../data/sg_property_enbloc_preds.csv', index=False)"
   ]
  },
  {
   "cell_type": "code",
   "execution_count": null,
   "metadata": {},
   "outputs": [],
   "source": []
  }
 ],
 "metadata": {
  "kernelspec": {
   "display_name": "Python 3",
   "language": "python",
   "name": "python3"
  },
  "language_info": {
   "codemirror_mode": {
    "name": "ipython",
    "version": 3
   },
   "file_extension": ".py",
   "mimetype": "text/x-python",
   "name": "python",
   "nbconvert_exporter": "python",
   "pygments_lexer": "ipython3",
   "version": "3.7.6"
  }
 },
 "nbformat": 4,
 "nbformat_minor": 4
}
